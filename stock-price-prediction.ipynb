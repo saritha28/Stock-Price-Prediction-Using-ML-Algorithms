{
 "cells": [
  {
   "cell_type": "code",
   "execution_count": 1,
   "id": "e8a7159a",
   "metadata": {
    "_cell_guid": "b1076dfc-b9ad-4769-8c92-a6c4dae69d19",
    "_uuid": "8f2839f25d086af736a60e9eeb907d3b93b6e0e5",
    "execution": {
     "iopub.execute_input": "2024-01-05T14:48:19.504052Z",
     "iopub.status.busy": "2024-01-05T14:48:19.503470Z",
     "iopub.status.idle": "2024-01-05T14:48:19.937391Z",
     "shell.execute_reply": "2024-01-05T14:48:19.936021Z"
    },
    "papermill": {
     "duration": 0.455625,
     "end_time": "2024-01-05T14:48:19.940532",
     "exception": false,
     "start_time": "2024-01-05T14:48:19.484907",
     "status": "completed"
    },
    "tags": []
   },
   "outputs": [
    {
     "name": "stdout",
     "output_type": "stream",
     "text": [
      "/kaggle/input/tesla-stock-data-from-2010-to-2020/TSLA.csv\n"
     ]
    }
   ],
   "source": [
    "# This Python 3 environment comes with many helpful analytics libraries installed\n",
    "# It is defined by the kaggle/python Docker image: https://github.com/kaggle/docker-python\n",
    "# For example, here's several helpful packages to load\n",
    "\n",
    "import numpy as np # linear algebra\n",
    "import pandas as pd # data processing, CSV file I/O (e.g. pd.read_csv)\n",
    "\n",
    "# Input data files are available in the read-only \"../input/\" directory\n",
    "# For example, running this (by clicking run or pressing Shift+Enter) will list all files under the input directory\n",
    "\n",
    "import os\n",
    "for dirname, _, filenames in os.walk('/kaggle/input'):\n",
    "    for filename in filenames:\n",
    "        print(os.path.join(dirname, filename))\n",
    "\n",
    "# You can write up to 20GB to the current directory (/kaggle/working/) that gets preserved as output when you create a version using \"Save & Run All\" \n",
    "# You can also write temporary files to /kaggle/temp/, but they won't be saved outside of the current session"
   ]
  },
  {
   "cell_type": "code",
   "execution_count": 2,
   "id": "9339f463",
   "metadata": {
    "execution": {
     "iopub.execute_input": "2024-01-05T14:48:19.969719Z",
     "iopub.status.busy": "2024-01-05T14:48:19.969208Z",
     "iopub.status.idle": "2024-01-05T14:48:20.017547Z",
     "shell.execute_reply": "2024-01-05T14:48:20.016747Z"
    },
    "papermill": {
     "duration": 0.065592,
     "end_time": "2024-01-05T14:48:20.020043",
     "exception": false,
     "start_time": "2024-01-05T14:48:19.954451",
     "status": "completed"
    },
    "tags": []
   },
   "outputs": [
    {
     "data": {
      "text/html": [
       "<div>\n",
       "<style scoped>\n",
       "    .dataframe tbody tr th:only-of-type {\n",
       "        vertical-align: middle;\n",
       "    }\n",
       "\n",
       "    .dataframe tbody tr th {\n",
       "        vertical-align: top;\n",
       "    }\n",
       "\n",
       "    .dataframe thead th {\n",
       "        text-align: right;\n",
       "    }\n",
       "</style>\n",
       "<table border=\"1\" class=\"dataframe\">\n",
       "  <thead>\n",
       "    <tr style=\"text-align: right;\">\n",
       "      <th></th>\n",
       "      <th>Date</th>\n",
       "      <th>Open</th>\n",
       "      <th>High</th>\n",
       "      <th>Low</th>\n",
       "      <th>Close</th>\n",
       "      <th>Adj Close</th>\n",
       "      <th>Volume</th>\n",
       "    </tr>\n",
       "  </thead>\n",
       "  <tbody>\n",
       "    <tr>\n",
       "      <th>0</th>\n",
       "      <td>2010-06-29</td>\n",
       "      <td>19.000000</td>\n",
       "      <td>25.00</td>\n",
       "      <td>17.540001</td>\n",
       "      <td>23.889999</td>\n",
       "      <td>23.889999</td>\n",
       "      <td>18766300</td>\n",
       "    </tr>\n",
       "    <tr>\n",
       "      <th>1</th>\n",
       "      <td>2010-06-30</td>\n",
       "      <td>25.790001</td>\n",
       "      <td>30.42</td>\n",
       "      <td>23.299999</td>\n",
       "      <td>23.830000</td>\n",
       "      <td>23.830000</td>\n",
       "      <td>17187100</td>\n",
       "    </tr>\n",
       "    <tr>\n",
       "      <th>2</th>\n",
       "      <td>2010-07-01</td>\n",
       "      <td>25.000000</td>\n",
       "      <td>25.92</td>\n",
       "      <td>20.270000</td>\n",
       "      <td>21.959999</td>\n",
       "      <td>21.959999</td>\n",
       "      <td>8218800</td>\n",
       "    </tr>\n",
       "    <tr>\n",
       "      <th>3</th>\n",
       "      <td>2010-07-02</td>\n",
       "      <td>23.000000</td>\n",
       "      <td>23.10</td>\n",
       "      <td>18.709999</td>\n",
       "      <td>19.200001</td>\n",
       "      <td>19.200001</td>\n",
       "      <td>5139800</td>\n",
       "    </tr>\n",
       "    <tr>\n",
       "      <th>4</th>\n",
       "      <td>2010-07-06</td>\n",
       "      <td>20.000000</td>\n",
       "      <td>20.00</td>\n",
       "      <td>15.830000</td>\n",
       "      <td>16.110001</td>\n",
       "      <td>16.110001</td>\n",
       "      <td>6866900</td>\n",
       "    </tr>\n",
       "  </tbody>\n",
       "</table>\n",
       "</div>"
      ],
      "text/plain": [
       "         Date       Open   High        Low      Close  Adj Close    Volume\n",
       "0  2010-06-29  19.000000  25.00  17.540001  23.889999  23.889999  18766300\n",
       "1  2010-06-30  25.790001  30.42  23.299999  23.830000  23.830000  17187100\n",
       "2  2010-07-01  25.000000  25.92  20.270000  21.959999  21.959999   8218800\n",
       "3  2010-07-02  23.000000  23.10  18.709999  19.200001  19.200001   5139800\n",
       "4  2010-07-06  20.000000  20.00  15.830000  16.110001  16.110001   6866900"
      ]
     },
     "execution_count": 2,
     "metadata": {},
     "output_type": "execute_result"
    }
   ],
   "source": [
    "df=pd.read_csv(\"/kaggle/input/tesla-stock-data-from-2010-to-2020/TSLA.csv\")\n",
    "df.head()"
   ]
  },
  {
   "cell_type": "code",
   "execution_count": 3,
   "id": "d889b147",
   "metadata": {
    "execution": {
     "iopub.execute_input": "2024-01-05T14:48:20.050420Z",
     "iopub.status.busy": "2024-01-05T14:48:20.049432Z",
     "iopub.status.idle": "2024-01-05T14:48:20.056508Z",
     "shell.execute_reply": "2024-01-05T14:48:20.055439Z"
    },
    "papermill": {
     "duration": 0.025083,
     "end_time": "2024-01-05T14:48:20.058960",
     "exception": false,
     "start_time": "2024-01-05T14:48:20.033877",
     "status": "completed"
    },
    "tags": []
   },
   "outputs": [
    {
     "data": {
      "text/plain": [
       "(2416, 7)"
      ]
     },
     "execution_count": 3,
     "metadata": {},
     "output_type": "execute_result"
    }
   ],
   "source": [
    "df.shape"
   ]
  },
  {
   "cell_type": "code",
   "execution_count": 4,
   "id": "f2dc152b",
   "metadata": {
    "execution": {
     "iopub.execute_input": "2024-01-05T14:48:20.089168Z",
     "iopub.status.busy": "2024-01-05T14:48:20.088789Z",
     "iopub.status.idle": "2024-01-05T14:48:20.115391Z",
     "shell.execute_reply": "2024-01-05T14:48:20.114033Z"
    },
    "papermill": {
     "duration": 0.044956,
     "end_time": "2024-01-05T14:48:20.118426",
     "exception": false,
     "start_time": "2024-01-05T14:48:20.073470",
     "status": "completed"
    },
    "tags": []
   },
   "outputs": [
    {
     "name": "stdout",
     "output_type": "stream",
     "text": [
      "<class 'pandas.core.frame.DataFrame'>\n",
      "RangeIndex: 2416 entries, 0 to 2415\n",
      "Data columns (total 7 columns):\n",
      " #   Column     Non-Null Count  Dtype  \n",
      "---  ------     --------------  -----  \n",
      " 0   Date       2416 non-null   object \n",
      " 1   Open       2416 non-null   float64\n",
      " 2   High       2416 non-null   float64\n",
      " 3   Low        2416 non-null   float64\n",
      " 4   Close      2416 non-null   float64\n",
      " 5   Adj Close  2416 non-null   float64\n",
      " 6   Volume     2416 non-null   int64  \n",
      "dtypes: float64(5), int64(1), object(1)\n",
      "memory usage: 132.2+ KB\n"
     ]
    }
   ],
   "source": [
    "df.info()"
   ]
  },
  {
   "cell_type": "markdown",
   "id": "75a85d80",
   "metadata": {
    "papermill": {
     "duration": 0.013824,
     "end_time": "2024-01-05T14:48:20.146683",
     "exception": false,
     "start_time": "2024-01-05T14:48:20.132859",
     "status": "completed"
    },
    "tags": []
   },
   "source": [
    "From the above data we can see that the data type of Date column is not correct. we need to change it."
   ]
  },
  {
   "cell_type": "code",
   "execution_count": 5,
   "id": "8727cc8d",
   "metadata": {
    "execution": {
     "iopub.execute_input": "2024-01-05T14:48:20.176948Z",
     "iopub.status.busy": "2024-01-05T14:48:20.176549Z",
     "iopub.status.idle": "2024-01-05T14:48:20.208618Z",
     "shell.execute_reply": "2024-01-05T14:48:20.207481Z"
    },
    "papermill": {
     "duration": 0.050609,
     "end_time": "2024-01-05T14:48:20.211377",
     "exception": false,
     "start_time": "2024-01-05T14:48:20.160768",
     "status": "completed"
    },
    "tags": []
   },
   "outputs": [
    {
     "data": {
      "text/html": [
       "<div>\n",
       "<style scoped>\n",
       "    .dataframe tbody tr th:only-of-type {\n",
       "        vertical-align: middle;\n",
       "    }\n",
       "\n",
       "    .dataframe tbody tr th {\n",
       "        vertical-align: top;\n",
       "    }\n",
       "\n",
       "    .dataframe thead th {\n",
       "        text-align: right;\n",
       "    }\n",
       "</style>\n",
       "<table border=\"1\" class=\"dataframe\">\n",
       "  <thead>\n",
       "    <tr style=\"text-align: right;\">\n",
       "      <th></th>\n",
       "      <th>Open</th>\n",
       "      <th>High</th>\n",
       "      <th>Low</th>\n",
       "      <th>Close</th>\n",
       "      <th>Adj Close</th>\n",
       "      <th>Volume</th>\n",
       "    </tr>\n",
       "  </thead>\n",
       "  <tbody>\n",
       "    <tr>\n",
       "      <th>count</th>\n",
       "      <td>2416.000000</td>\n",
       "      <td>2416.000000</td>\n",
       "      <td>2416.000000</td>\n",
       "      <td>2416.000000</td>\n",
       "      <td>2416.000000</td>\n",
       "      <td>2.416000e+03</td>\n",
       "    </tr>\n",
       "    <tr>\n",
       "      <th>mean</th>\n",
       "      <td>186.271147</td>\n",
       "      <td>189.578224</td>\n",
       "      <td>182.916639</td>\n",
       "      <td>186.403651</td>\n",
       "      <td>186.403651</td>\n",
       "      <td>5.572722e+06</td>\n",
       "    </tr>\n",
       "    <tr>\n",
       "      <th>std</th>\n",
       "      <td>118.740163</td>\n",
       "      <td>120.892329</td>\n",
       "      <td>116.857591</td>\n",
       "      <td>119.136020</td>\n",
       "      <td>119.136020</td>\n",
       "      <td>4.987809e+06</td>\n",
       "    </tr>\n",
       "    <tr>\n",
       "      <th>min</th>\n",
       "      <td>16.139999</td>\n",
       "      <td>16.629999</td>\n",
       "      <td>14.980000</td>\n",
       "      <td>15.800000</td>\n",
       "      <td>15.800000</td>\n",
       "      <td>1.185000e+05</td>\n",
       "    </tr>\n",
       "    <tr>\n",
       "      <th>25%</th>\n",
       "      <td>34.342498</td>\n",
       "      <td>34.897501</td>\n",
       "      <td>33.587501</td>\n",
       "      <td>34.400002</td>\n",
       "      <td>34.400002</td>\n",
       "      <td>1.899275e+06</td>\n",
       "    </tr>\n",
       "    <tr>\n",
       "      <th>50%</th>\n",
       "      <td>213.035004</td>\n",
       "      <td>216.745002</td>\n",
       "      <td>208.870002</td>\n",
       "      <td>212.960007</td>\n",
       "      <td>212.960007</td>\n",
       "      <td>4.578400e+06</td>\n",
       "    </tr>\n",
       "    <tr>\n",
       "      <th>75%</th>\n",
       "      <td>266.450012</td>\n",
       "      <td>270.927513</td>\n",
       "      <td>262.102501</td>\n",
       "      <td>266.774994</td>\n",
       "      <td>266.774994</td>\n",
       "      <td>7.361150e+06</td>\n",
       "    </tr>\n",
       "    <tr>\n",
       "      <th>max</th>\n",
       "      <td>673.690002</td>\n",
       "      <td>786.140015</td>\n",
       "      <td>673.520020</td>\n",
       "      <td>780.000000</td>\n",
       "      <td>780.000000</td>\n",
       "      <td>4.706500e+07</td>\n",
       "    </tr>\n",
       "  </tbody>\n",
       "</table>\n",
       "</div>"
      ],
      "text/plain": [
       "              Open         High          Low        Close    Adj Close  \\\n",
       "count  2416.000000  2416.000000  2416.000000  2416.000000  2416.000000   \n",
       "mean    186.271147   189.578224   182.916639   186.403651   186.403651   \n",
       "std     118.740163   120.892329   116.857591   119.136020   119.136020   \n",
       "min      16.139999    16.629999    14.980000    15.800000    15.800000   \n",
       "25%      34.342498    34.897501    33.587501    34.400002    34.400002   \n",
       "50%     213.035004   216.745002   208.870002   212.960007   212.960007   \n",
       "75%     266.450012   270.927513   262.102501   266.774994   266.774994   \n",
       "max     673.690002   786.140015   673.520020   780.000000   780.000000   \n",
       "\n",
       "             Volume  \n",
       "count  2.416000e+03  \n",
       "mean   5.572722e+06  \n",
       "std    4.987809e+06  \n",
       "min    1.185000e+05  \n",
       "25%    1.899275e+06  \n",
       "50%    4.578400e+06  \n",
       "75%    7.361150e+06  \n",
       "max    4.706500e+07  "
      ]
     },
     "execution_count": 5,
     "metadata": {},
     "output_type": "execute_result"
    }
   ],
   "source": [
    "df.describe()"
   ]
  },
  {
   "cell_type": "code",
   "execution_count": 6,
   "id": "5f123afc",
   "metadata": {
    "execution": {
     "iopub.execute_input": "2024-01-05T14:48:20.242578Z",
     "iopub.status.busy": "2024-01-05T14:48:20.241822Z",
     "iopub.status.idle": "2024-01-05T14:48:20.251146Z",
     "shell.execute_reply": "2024-01-05T14:48:20.250258Z"
    },
    "papermill": {
     "duration": 0.027127,
     "end_time": "2024-01-05T14:48:20.253278",
     "exception": false,
     "start_time": "2024-01-05T14:48:20.226151",
     "status": "completed"
    },
    "tags": []
   },
   "outputs": [
    {
     "data": {
      "text/plain": [
       "Date         0\n",
       "Open         0\n",
       "High         0\n",
       "Low          0\n",
       "Close        0\n",
       "Adj Close    0\n",
       "Volume       0\n",
       "dtype: int64"
      ]
     },
     "execution_count": 6,
     "metadata": {},
     "output_type": "execute_result"
    }
   ],
   "source": [
    "df.isnull().sum()"
   ]
  },
  {
   "cell_type": "code",
   "execution_count": 7,
   "id": "5f26e57d",
   "metadata": {
    "execution": {
     "iopub.execute_input": "2024-01-05T14:48:20.284258Z",
     "iopub.status.busy": "2024-01-05T14:48:20.283590Z",
     "iopub.status.idle": "2024-01-05T14:48:20.287703Z",
     "shell.execute_reply": "2024-01-05T14:48:20.286951Z"
    },
    "papermill": {
     "duration": 0.022024,
     "end_time": "2024-01-05T14:48:20.289811",
     "exception": false,
     "start_time": "2024-01-05T14:48:20.267787",
     "status": "completed"
    },
    "tags": []
   },
   "outputs": [],
   "source": [
    "#df['Date']=pd.to_datetime(df['Date'])"
   ]
  },
  {
   "cell_type": "code",
   "execution_count": 8,
   "id": "8c3ea3c3",
   "metadata": {
    "execution": {
     "iopub.execute_input": "2024-01-05T14:48:20.321029Z",
     "iopub.status.busy": "2024-01-05T14:48:20.320341Z",
     "iopub.status.idle": "2024-01-05T14:48:20.332067Z",
     "shell.execute_reply": "2024-01-05T14:48:20.330851Z"
    },
    "papermill": {
     "duration": 0.030146,
     "end_time": "2024-01-05T14:48:20.334550",
     "exception": false,
     "start_time": "2024-01-05T14:48:20.304404",
     "status": "completed"
    },
    "tags": []
   },
   "outputs": [
    {
     "name": "stdout",
     "output_type": "stream",
     "text": [
      "<class 'pandas.core.frame.DataFrame'>\n",
      "RangeIndex: 2416 entries, 0 to 2415\n",
      "Data columns (total 7 columns):\n",
      " #   Column     Non-Null Count  Dtype  \n",
      "---  ------     --------------  -----  \n",
      " 0   Date       2416 non-null   object \n",
      " 1   Open       2416 non-null   float64\n",
      " 2   High       2416 non-null   float64\n",
      " 3   Low        2416 non-null   float64\n",
      " 4   Close      2416 non-null   float64\n",
      " 5   Adj Close  2416 non-null   float64\n",
      " 6   Volume     2416 non-null   int64  \n",
      "dtypes: float64(5), int64(1), object(1)\n",
      "memory usage: 132.2+ KB\n"
     ]
    }
   ],
   "source": [
    "df.info()"
   ]
  },
  {
   "cell_type": "code",
   "execution_count": 9,
   "id": "bc491619",
   "metadata": {
    "execution": {
     "iopub.execute_input": "2024-01-05T14:48:20.365837Z",
     "iopub.status.busy": "2024-01-05T14:48:20.365148Z",
     "iopub.status.idle": "2024-01-05T14:48:20.376163Z",
     "shell.execute_reply": "2024-01-05T14:48:20.375077Z"
    },
    "papermill": {
     "duration": 0.029473,
     "end_time": "2024-01-05T14:48:20.378714",
     "exception": false,
     "start_time": "2024-01-05T14:48:20.349241",
     "status": "completed"
    },
    "tags": []
   },
   "outputs": [
    {
     "data": {
      "text/plain": [
       "0"
      ]
     },
     "execution_count": 9,
     "metadata": {},
     "output_type": "execute_result"
    }
   ],
   "source": [
    "df.duplicated().sum()"
   ]
  },
  {
   "cell_type": "code",
   "execution_count": 10,
   "id": "7d6c864a",
   "metadata": {
    "execution": {
     "iopub.execute_input": "2024-01-05T14:48:20.410844Z",
     "iopub.status.busy": "2024-01-05T14:48:20.410198Z",
     "iopub.status.idle": "2024-01-05T14:48:20.424886Z",
     "shell.execute_reply": "2024-01-05T14:48:20.423778Z"
    },
    "papermill": {
     "duration": 0.033476,
     "end_time": "2024-01-05T14:48:20.427426",
     "exception": false,
     "start_time": "2024-01-05T14:48:20.393950",
     "status": "completed"
    },
    "tags": []
   },
   "outputs": [
    {
     "data": {
      "text/html": [
       "<div>\n",
       "<style scoped>\n",
       "    .dataframe tbody tr th:only-of-type {\n",
       "        vertical-align: middle;\n",
       "    }\n",
       "\n",
       "    .dataframe tbody tr th {\n",
       "        vertical-align: top;\n",
       "    }\n",
       "\n",
       "    .dataframe thead th {\n",
       "        text-align: right;\n",
       "    }\n",
       "</style>\n",
       "<table border=\"1\" class=\"dataframe\">\n",
       "  <thead>\n",
       "    <tr style=\"text-align: right;\">\n",
       "      <th></th>\n",
       "      <th>Date</th>\n",
       "      <th>Open</th>\n",
       "      <th>High</th>\n",
       "      <th>Low</th>\n",
       "      <th>Close</th>\n",
       "      <th>Adj Close</th>\n",
       "      <th>Volume</th>\n",
       "    </tr>\n",
       "  </thead>\n",
       "  <tbody>\n",
       "    <tr>\n",
       "      <th>0</th>\n",
       "      <td>2010-06-29</td>\n",
       "      <td>19.000000</td>\n",
       "      <td>25.00</td>\n",
       "      <td>17.540001</td>\n",
       "      <td>23.889999</td>\n",
       "      <td>23.889999</td>\n",
       "      <td>18766300</td>\n",
       "    </tr>\n",
       "    <tr>\n",
       "      <th>1</th>\n",
       "      <td>2010-06-30</td>\n",
       "      <td>25.790001</td>\n",
       "      <td>30.42</td>\n",
       "      <td>23.299999</td>\n",
       "      <td>23.830000</td>\n",
       "      <td>23.830000</td>\n",
       "      <td>17187100</td>\n",
       "    </tr>\n",
       "    <tr>\n",
       "      <th>2</th>\n",
       "      <td>2010-07-01</td>\n",
       "      <td>25.000000</td>\n",
       "      <td>25.92</td>\n",
       "      <td>20.270000</td>\n",
       "      <td>21.959999</td>\n",
       "      <td>21.959999</td>\n",
       "      <td>8218800</td>\n",
       "    </tr>\n",
       "    <tr>\n",
       "      <th>3</th>\n",
       "      <td>2010-07-02</td>\n",
       "      <td>23.000000</td>\n",
       "      <td>23.10</td>\n",
       "      <td>18.709999</td>\n",
       "      <td>19.200001</td>\n",
       "      <td>19.200001</td>\n",
       "      <td>5139800</td>\n",
       "    </tr>\n",
       "    <tr>\n",
       "      <th>4</th>\n",
       "      <td>2010-07-06</td>\n",
       "      <td>20.000000</td>\n",
       "      <td>20.00</td>\n",
       "      <td>15.830000</td>\n",
       "      <td>16.110001</td>\n",
       "      <td>16.110001</td>\n",
       "      <td>6866900</td>\n",
       "    </tr>\n",
       "  </tbody>\n",
       "</table>\n",
       "</div>"
      ],
      "text/plain": [
       "         Date       Open   High        Low      Close  Adj Close    Volume\n",
       "0  2010-06-29  19.000000  25.00  17.540001  23.889999  23.889999  18766300\n",
       "1  2010-06-30  25.790001  30.42  23.299999  23.830000  23.830000  17187100\n",
       "2  2010-07-01  25.000000  25.92  20.270000  21.959999  21.959999   8218800\n",
       "3  2010-07-02  23.000000  23.10  18.709999  19.200001  19.200001   5139800\n",
       "4  2010-07-06  20.000000  20.00  15.830000  16.110001  16.110001   6866900"
      ]
     },
     "execution_count": 10,
     "metadata": {},
     "output_type": "execute_result"
    }
   ],
   "source": [
    "df.head(5)"
   ]
  },
  {
   "cell_type": "markdown",
   "id": "e6692733",
   "metadata": {
    "papermill": {
     "duration": 0.015813,
     "end_time": "2024-01-05T14:48:20.458595",
     "exception": false,
     "start_time": "2024-01-05T14:48:20.442782",
     "status": "completed"
    },
    "tags": []
   },
   "source": [
    "From the above data we can observe that the 'Close' column and the 'Adj Close' column having the same data. Let's check whether there shape are same or not."
   ]
  },
  {
   "cell_type": "code",
   "execution_count": 11,
   "id": "55602889",
   "metadata": {
    "execution": {
     "iopub.execute_input": "2024-01-05T14:48:20.550896Z",
     "iopub.status.busy": "2024-01-05T14:48:20.550190Z",
     "iopub.status.idle": "2024-01-05T14:48:20.557212Z",
     "shell.execute_reply": "2024-01-05T14:48:20.556228Z"
    },
    "papermill": {
     "duration": 0.085237,
     "end_time": "2024-01-05T14:48:20.559301",
     "exception": false,
     "start_time": "2024-01-05T14:48:20.474064",
     "status": "completed"
    },
    "tags": []
   },
   "outputs": [
    {
     "data": {
      "text/plain": [
       "(2416, 7)"
      ]
     },
     "execution_count": 11,
     "metadata": {},
     "output_type": "execute_result"
    }
   ],
   "source": [
    "df[df['Close']== df['Adj Close']].shape"
   ]
  },
  {
   "cell_type": "code",
   "execution_count": 12,
   "id": "3e306dcd",
   "metadata": {
    "execution": {
     "iopub.execute_input": "2024-01-05T14:48:20.592158Z",
     "iopub.status.busy": "2024-01-05T14:48:20.591769Z",
     "iopub.status.idle": "2024-01-05T14:48:20.600877Z",
     "shell.execute_reply": "2024-01-05T14:48:20.599821Z"
    },
    "papermill": {
     "duration": 0.028409,
     "end_time": "2024-01-05T14:48:20.603406",
     "exception": false,
     "start_time": "2024-01-05T14:48:20.574997",
     "status": "completed"
    },
    "tags": []
   },
   "outputs": [],
   "source": [
    "df = df.drop(['Adj Close'], axis=1, errors='ignore')"
   ]
  },
  {
   "cell_type": "markdown",
   "id": "134abddf",
   "metadata": {
    "papermill": {
     "duration": 0.015694,
     "end_time": "2024-01-05T14:48:20.634810",
     "exception": false,
     "start_time": "2024-01-05T14:48:20.619116",
     "status": "completed"
    },
    "tags": []
   },
   "source": [
    "We can see that they both are having the same data. so let us drop 'Adj Close' column."
   ]
  },
  {
   "cell_type": "markdown",
   "id": "56154e3e",
   "metadata": {
    "papermill": {
     "duration": 0.015255,
     "end_time": "2024-01-05T14:48:20.665659",
     "exception": false,
     "start_time": "2024-01-05T14:48:20.650404",
     "status": "completed"
    },
    "tags": []
   },
   "source": [
    "# EDA"
   ]
  },
  {
   "cell_type": "markdown",
   "id": "bf0cf8dd",
   "metadata": {
    "papermill": {
     "duration": 0.014872,
     "end_time": "2024-01-05T14:48:20.695863",
     "exception": false,
     "start_time": "2024-01-05T14:48:20.680991",
     "status": "completed"
    },
    "tags": []
   },
   "source": [
    "EDA is used to analyzing the data using visual techniques. It is used to discover trends, and patterns, or to check assumptions with the help of statistical summaries and graphical representations. "
   ]
  },
  {
   "cell_type": "code",
   "execution_count": 13,
   "id": "fe65d90c",
   "metadata": {
    "execution": {
     "iopub.execute_input": "2024-01-05T14:48:20.728682Z",
     "iopub.status.busy": "2024-01-05T14:48:20.728272Z",
     "iopub.status.idle": "2024-01-05T14:48:22.027162Z",
     "shell.execute_reply": "2024-01-05T14:48:22.025979Z"
    },
    "papermill": {
     "duration": 1.318405,
     "end_time": "2024-01-05T14:48:22.030073",
     "exception": false,
     "start_time": "2024-01-05T14:48:20.711668",
     "status": "completed"
    },
    "tags": []
   },
   "outputs": [],
   "source": [
    "import matplotlib.pyplot as plt\n",
    "import seaborn as sns\n",
    "import warnings\n",
    "warnings.filterwarnings(\"ignore\")"
   ]
  },
  {
   "cell_type": "code",
   "execution_count": 14,
   "id": "d341364e",
   "metadata": {
    "execution": {
     "iopub.execute_input": "2024-01-05T14:48:22.063376Z",
     "iopub.status.busy": "2024-01-05T14:48:22.062979Z",
     "iopub.status.idle": "2024-01-05T14:48:22.422329Z",
     "shell.execute_reply": "2024-01-05T14:48:22.421199Z"
    },
    "papermill": {
     "duration": 0.379339,
     "end_time": "2024-01-05T14:48:22.424884",
     "exception": false,
     "start_time": "2024-01-05T14:48:22.045545",
     "status": "completed"
    },
    "tags": []
   },
   "outputs": [
    {
     "data": {
      "image/png": "[encoded data removed]",
      "text/plain": [
       "<Figure size 1500x500 with 1 Axes>"
      ]
     },
     "metadata": {},
     "output_type": "display_data"
    }
   ],
   "source": [
    "#plotting Close column\n",
    "plt.figure(figsize=(15,5))\n",
    "plt.plot(df['Close'])\n",
    "plt.title('Tesla Close price.', fontsize=15)\n",
    "plt.ylabel('Price in dollars.')\n",
    "plt.show()\n"
   ]
  },
  {
   "cell_type": "code",
   "execution_count": 15,
   "id": "55c185ef",
   "metadata": {
    "execution": {
     "iopub.execute_input": "2024-01-05T14:48:22.459238Z",
     "iopub.status.busy": "2024-01-05T14:48:22.458809Z",
     "iopub.status.idle": "2024-01-05T14:48:24.089540Z",
     "shell.execute_reply": "2024-01-05T14:48:24.088489Z"
    },
    "papermill": {
     "duration": 1.651967,
     "end_time": "2024-01-05T14:48:24.093112",
     "exception": false,
     "start_time": "2024-01-05T14:48:22.441145",
     "status": "completed"
    },
    "tags": []
   },
   "outputs": [
    {
     "data": {
      "image/png": "[encoded data removed]",
      "text/plain": [
       "<Figure size 2000x1000 with 5 Axes>"
      ]
     },
     "metadata": {},
     "output_type": "display_data"
    }
   ],
   "source": [
    "num_features = ['Open', 'High', 'Low', 'Close', 'Volume']\n",
    "\n",
    "plt.subplots(figsize=(20,10))\n",
    "\n",
    "for i, col in enumerate(num_features):\n",
    "    plt.subplot(2,3,i+1)\n",
    "    sns.distplot(df[col])  \n",
    "plt.show()\n"
   ]
  },
  {
   "cell_type": "code",
   "execution_count": 16,
   "id": "9152067d",
   "metadata": {
    "execution": {
     "iopub.execute_input": "2024-01-05T14:48:24.131948Z",
     "iopub.status.busy": "2024-01-05T14:48:24.130733Z",
     "iopub.status.idle": "2024-01-05T14:48:25.249097Z",
     "shell.execute_reply": "2024-01-05T14:48:25.248259Z"
    },
    "papermill": {
     "duration": 1.140443,
     "end_time": "2024-01-05T14:48:25.251352",
     "exception": false,
     "start_time": "2024-01-05T14:48:24.110909",
     "status": "completed"
    },
    "tags": []
   },
   "outputs": [
    {
     "data": {
      "image/png": "[encoded data removed]",
      "text/plain": [
       "<Figure size 2000x1000 with 6 Axes>"
      ]
     },
     "metadata": {},
     "output_type": "display_data"
    }
   ],
   "source": [
    "num_features = ['Open', 'High', 'Low', 'Close', 'Volume']\n",
    "fig, axes = plt.subplots(nrows=2, ncols=3, figsize=(20, 10))\n",
    "\n",
    "for i, col in enumerate(num_features):\n",
    "    sns.boxplot(ax=axes[i//3, i%3], x=df[col])\n",
    "    axes[i//3, i%3].set_title(col)\n",
    "\n",
    "plt.tight_layout()\n",
    "plt.show()\n"
   ]
  },
  {
   "cell_type": "markdown",
   "id": "2686509b",
   "metadata": {
    "papermill": {
     "duration": 0.018356,
     "end_time": "2024-01-05T14:48:25.288608",
     "exception": false,
     "start_time": "2024-01-05T14:48:25.270252",
     "status": "completed"
    },
    "tags": []
   },
   "source": [
    "We can see in the volume column, there are many outliers.compared to others columns."
   ]
  },
  {
   "cell_type": "code",
   "execution_count": 17,
   "id": "e18ac5a4",
   "metadata": {
    "execution": {
     "iopub.execute_input": "2024-01-05T14:48:25.329339Z",
     "iopub.status.busy": "2024-01-05T14:48:25.328253Z",
     "iopub.status.idle": "2024-01-05T14:48:25.797237Z",
     "shell.execute_reply": "2024-01-05T14:48:25.795993Z"
    },
    "papermill": {
     "duration": 0.492659,
     "end_time": "2024-01-05T14:48:25.800658",
     "exception": false,
     "start_time": "2024-01-05T14:48:25.307999",
     "status": "completed"
    },
    "tags": []
   },
   "outputs": [],
   "source": [
    "from sklearn.model_selection import train_test_split\n",
    "from sklearn.preprocessing import StandardScaler\n",
    "from sklearn.linear_model import LogisticRegression\n",
    "from sklearn.svm import SVC\n",
    "from xgboost import XGBClassifier\n",
    "from sklearn import metrics"
   ]
  },
  {
   "cell_type": "markdown",
   "id": "63ae0c83",
   "metadata": {
    "papermill": {
     "duration": 0.023434,
     "end_time": "2024-01-05T14:48:25.850583",
     "exception": false,
     "start_time": "2024-01-05T14:48:25.827149",
     "status": "completed"
    },
    "tags": []
   },
   "source": [
    "# Feature Engineering"
   ]
  },
  {
   "cell_type": "code",
   "execution_count": 18,
   "id": "4ebcf9a4",
   "metadata": {
    "execution": {
     "iopub.execute_input": "2024-01-05T14:48:25.899745Z",
     "iopub.status.busy": "2024-01-05T14:48:25.898864Z",
     "iopub.status.idle": "2024-01-05T14:48:25.923837Z",
     "shell.execute_reply": "2024-01-05T14:48:25.922993Z"
    },
    "papermill": {
     "duration": 0.054893,
     "end_time": "2024-01-05T14:48:25.926338",
     "exception": false,
     "start_time": "2024-01-05T14:48:25.871445",
     "status": "completed"
    },
    "tags": []
   },
   "outputs": [
    {
     "data": {
      "text/html": [
       "<div>\n",
       "<style scoped>\n",
       "    .dataframe tbody tr th:only-of-type {\n",
       "        vertical-align: middle;\n",
       "    }\n",
       "\n",
       "    .dataframe tbody tr th {\n",
       "        vertical-align: top;\n",
       "    }\n",
       "\n",
       "    .dataframe thead th {\n",
       "        text-align: right;\n",
       "    }\n",
       "</style>\n",
       "<table border=\"1\" class=\"dataframe\">\n",
       "  <thead>\n",
       "    <tr style=\"text-align: right;\">\n",
       "      <th></th>\n",
       "      <th>Date</th>\n",
       "      <th>Open</th>\n",
       "      <th>High</th>\n",
       "      <th>Low</th>\n",
       "      <th>Close</th>\n",
       "      <th>Volume</th>\n",
       "    </tr>\n",
       "  </thead>\n",
       "  <tbody>\n",
       "    <tr>\n",
       "      <th>0</th>\n",
       "      <td>2010-06-29</td>\n",
       "      <td>19.000000</td>\n",
       "      <td>25.00</td>\n",
       "      <td>17.540001</td>\n",
       "      <td>23.889999</td>\n",
       "      <td>18766300</td>\n",
       "    </tr>\n",
       "    <tr>\n",
       "      <th>1</th>\n",
       "      <td>2010-06-30</td>\n",
       "      <td>25.790001</td>\n",
       "      <td>30.42</td>\n",
       "      <td>23.299999</td>\n",
       "      <td>23.830000</td>\n",
       "      <td>17187100</td>\n",
       "    </tr>\n",
       "    <tr>\n",
       "      <th>2</th>\n",
       "      <td>2010-07-01</td>\n",
       "      <td>25.000000</td>\n",
       "      <td>25.92</td>\n",
       "      <td>20.270000</td>\n",
       "      <td>21.959999</td>\n",
       "      <td>8218800</td>\n",
       "    </tr>\n",
       "    <tr>\n",
       "      <th>3</th>\n",
       "      <td>2010-07-02</td>\n",
       "      <td>23.000000</td>\n",
       "      <td>23.10</td>\n",
       "      <td>18.709999</td>\n",
       "      <td>19.200001</td>\n",
       "      <td>5139800</td>\n",
       "    </tr>\n",
       "    <tr>\n",
       "      <th>4</th>\n",
       "      <td>2010-07-06</td>\n",
       "      <td>20.000000</td>\n",
       "      <td>20.00</td>\n",
       "      <td>15.830000</td>\n",
       "      <td>16.110001</td>\n",
       "      <td>6866900</td>\n",
       "    </tr>\n",
       "  </tbody>\n",
       "</table>\n",
       "</div>"
      ],
      "text/plain": [
       "        Date       Open   High        Low      Close    Volume\n",
       "0 2010-06-29  19.000000  25.00  17.540001  23.889999  18766300\n",
       "1 2010-06-30  25.790001  30.42  23.299999  23.830000  17187100\n",
       "2 2010-07-01  25.000000  25.92  20.270000  21.959999   8218800\n",
       "3 2010-07-02  23.000000  23.10  18.709999  19.200001   5139800\n",
       "4 2010-07-06  20.000000  20.00  15.830000  16.110001   6866900"
      ]
     },
     "execution_count": 18,
     "metadata": {},
     "output_type": "execute_result"
    }
   ],
   "source": [
    "df['Date'] = pd.to_datetime(df['Date'], format='%Y-%m-%d', errors='coerce')\n",
    "df.head()"
   ]
  },
  {
   "cell_type": "code",
   "execution_count": 19,
   "id": "6fe5572a",
   "metadata": {
    "execution": {
     "iopub.execute_input": "2024-01-05T14:48:25.971250Z",
     "iopub.status.busy": "2024-01-05T14:48:25.970207Z",
     "iopub.status.idle": "2024-01-05T14:48:25.980596Z",
     "shell.execute_reply": "2024-01-05T14:48:25.979730Z"
    },
    "papermill": {
     "duration": 0.032698,
     "end_time": "2024-01-05T14:48:25.982852",
     "exception": false,
     "start_time": "2024-01-05T14:48:25.950154",
     "status": "completed"
    },
    "tags": []
   },
   "outputs": [],
   "source": [
    "#let us create a day,month,and year column using the date column\n",
    "# Create 'day', 'month', 'year' columns\n",
    "df['day'] = df['Date'].dt.day\n",
    "df['month'] = df['Date'].dt.month\n",
    "df['year'] = df['Date'].dt.year\n"
   ]
  },
  {
   "cell_type": "code",
   "execution_count": 20,
   "id": "ee0fb5e0",
   "metadata": {
    "execution": {
     "iopub.execute_input": "2024-01-05T14:48:26.023249Z",
     "iopub.status.busy": "2024-01-05T14:48:26.022501Z",
     "iopub.status.idle": "2024-01-05T14:48:26.037370Z",
     "shell.execute_reply": "2024-01-05T14:48:26.036225Z"
    },
    "papermill": {
     "duration": 0.037952,
     "end_time": "2024-01-05T14:48:26.039688",
     "exception": false,
     "start_time": "2024-01-05T14:48:26.001736",
     "status": "completed"
    },
    "tags": []
   },
   "outputs": [
    {
     "data": {
      "text/html": [
       "<div>\n",
       "<style scoped>\n",
       "    .dataframe tbody tr th:only-of-type {\n",
       "        vertical-align: middle;\n",
       "    }\n",
       "\n",
       "    .dataframe tbody tr th {\n",
       "        vertical-align: top;\n",
       "    }\n",
       "\n",
       "    .dataframe thead th {\n",
       "        text-align: right;\n",
       "    }\n",
       "</style>\n",
       "<table border=\"1\" class=\"dataframe\">\n",
       "  <thead>\n",
       "    <tr style=\"text-align: right;\">\n",
       "      <th></th>\n",
       "      <th>Date</th>\n",
       "      <th>Open</th>\n",
       "      <th>High</th>\n",
       "      <th>Low</th>\n",
       "      <th>Close</th>\n",
       "      <th>Volume</th>\n",
       "      <th>day</th>\n",
       "      <th>month</th>\n",
       "      <th>year</th>\n",
       "    </tr>\n",
       "  </thead>\n",
       "  <tbody>\n",
       "    <tr>\n",
       "      <th>0</th>\n",
       "      <td>2010-06-29</td>\n",
       "      <td>19.000000</td>\n",
       "      <td>25.00</td>\n",
       "      <td>17.540001</td>\n",
       "      <td>23.889999</td>\n",
       "      <td>18766300</td>\n",
       "      <td>29</td>\n",
       "      <td>6</td>\n",
       "      <td>2010</td>\n",
       "    </tr>\n",
       "    <tr>\n",
       "      <th>1</th>\n",
       "      <td>2010-06-30</td>\n",
       "      <td>25.790001</td>\n",
       "      <td>30.42</td>\n",
       "      <td>23.299999</td>\n",
       "      <td>23.830000</td>\n",
       "      <td>17187100</td>\n",
       "      <td>30</td>\n",
       "      <td>6</td>\n",
       "      <td>2010</td>\n",
       "    </tr>\n",
       "    <tr>\n",
       "      <th>2</th>\n",
       "      <td>2010-07-01</td>\n",
       "      <td>25.000000</td>\n",
       "      <td>25.92</td>\n",
       "      <td>20.270000</td>\n",
       "      <td>21.959999</td>\n",
       "      <td>8218800</td>\n",
       "      <td>1</td>\n",
       "      <td>7</td>\n",
       "      <td>2010</td>\n",
       "    </tr>\n",
       "    <tr>\n",
       "      <th>3</th>\n",
       "      <td>2010-07-02</td>\n",
       "      <td>23.000000</td>\n",
       "      <td>23.10</td>\n",
       "      <td>18.709999</td>\n",
       "      <td>19.200001</td>\n",
       "      <td>5139800</td>\n",
       "      <td>2</td>\n",
       "      <td>7</td>\n",
       "      <td>2010</td>\n",
       "    </tr>\n",
       "    <tr>\n",
       "      <th>4</th>\n",
       "      <td>2010-07-06</td>\n",
       "      <td>20.000000</td>\n",
       "      <td>20.00</td>\n",
       "      <td>15.830000</td>\n",
       "      <td>16.110001</td>\n",
       "      <td>6866900</td>\n",
       "      <td>6</td>\n",
       "      <td>7</td>\n",
       "      <td>2010</td>\n",
       "    </tr>\n",
       "  </tbody>\n",
       "</table>\n",
       "</div>"
      ],
      "text/plain": [
       "        Date       Open   High        Low      Close    Volume  day  month  \\\n",
       "0 2010-06-29  19.000000  25.00  17.540001  23.889999  18766300   29      6   \n",
       "1 2010-06-30  25.790001  30.42  23.299999  23.830000  17187100   30      6   \n",
       "2 2010-07-01  25.000000  25.92  20.270000  21.959999   8218800    1      7   \n",
       "3 2010-07-02  23.000000  23.10  18.709999  19.200001   5139800    2      7   \n",
       "4 2010-07-06  20.000000  20.00  15.830000  16.110001   6866900    6      7   \n",
       "\n",
       "   year  \n",
       "0  2010  \n",
       "1  2010  \n",
       "2  2010  \n",
       "3  2010  \n",
       "4  2010  "
      ]
     },
     "execution_count": 20,
     "metadata": {},
     "output_type": "execute_result"
    }
   ],
   "source": [
    "df.head()"
   ]
  },
  {
   "cell_type": "markdown",
   "id": "7d5dd271",
   "metadata": {
    "papermill": {
     "duration": 0.018971,
     "end_time": "2024-01-05T14:48:26.078389",
     "exception": false,
     "start_time": "2024-01-05T14:48:26.059418",
     "status": "completed"
    },
    "tags": []
   },
   "source": [
    "Now we have created three columns named day,month, year that is derived from the column Date. Now let us create one more column quarter."
   ]
  },
  {
   "cell_type": "code",
   "execution_count": 21,
   "id": "0a850fac",
   "metadata": {
    "execution": {
     "iopub.execute_input": "2024-01-05T14:48:26.118281Z",
     "iopub.status.busy": "2024-01-05T14:48:26.117830Z",
     "iopub.status.idle": "2024-01-05T14:48:26.124235Z",
     "shell.execute_reply": "2024-01-05T14:48:26.123082Z"
    },
    "papermill": {
     "duration": 0.029438,
     "end_time": "2024-01-05T14:48:26.126871",
     "exception": false,
     "start_time": "2024-01-05T14:48:26.097433",
     "status": "completed"
    },
    "tags": []
   },
   "outputs": [
    {
     "name": "stdout",
     "output_type": "stream",
     "text": [
      "[ 6  7  8  9 10 11 12  1  2  3  4  5]\n"
     ]
    }
   ],
   "source": [
    "print(df['month'].unique())\n"
   ]
  },
  {
   "cell_type": "code",
   "execution_count": 22,
   "id": "3c75ee2f",
   "metadata": {
    "execution": {
     "iopub.execute_input": "2024-01-05T14:48:26.167327Z",
     "iopub.status.busy": "2024-01-05T14:48:26.166882Z",
     "iopub.status.idle": "2024-01-05T14:48:26.173487Z",
     "shell.execute_reply": "2024-01-05T14:48:26.172408Z"
    },
    "papermill": {
     "duration": 0.029656,
     "end_time": "2024-01-05T14:48:26.175826",
     "exception": false,
     "start_time": "2024-01-05T14:48:26.146170",
     "status": "completed"
    },
    "tags": []
   },
   "outputs": [],
   "source": [
    "#df['is_quarter_end']= np.where(df['month']%3 == 0,1,0)\n",
    "df['is_quarter_end'] = np.where(df['month'].isin([3, 6, 9, 12]), 1, 0)"
   ]
  },
  {
   "cell_type": "code",
   "execution_count": 23,
   "id": "e6a5e525",
   "metadata": {
    "execution": {
     "iopub.execute_input": "2024-01-05T14:48:26.219847Z",
     "iopub.status.busy": "2024-01-05T14:48:26.219337Z",
     "iopub.status.idle": "2024-01-05T14:48:26.239116Z",
     "shell.execute_reply": "2024-01-05T14:48:26.237985Z"
    },
    "papermill": {
     "duration": 0.046482,
     "end_time": "2024-01-05T14:48:26.241630",
     "exception": false,
     "start_time": "2024-01-05T14:48:26.195148",
     "status": "completed"
    },
    "tags": []
   },
   "outputs": [
    {
     "data": {
      "text/html": [
       "<div>\n",
       "<style scoped>\n",
       "    .dataframe tbody tr th:only-of-type {\n",
       "        vertical-align: middle;\n",
       "    }\n",
       "\n",
       "    .dataframe tbody tr th {\n",
       "        vertical-align: top;\n",
       "    }\n",
       "\n",
       "    .dataframe thead th {\n",
       "        text-align: right;\n",
       "    }\n",
       "</style>\n",
       "<table border=\"1\" class=\"dataframe\">\n",
       "  <thead>\n",
       "    <tr style=\"text-align: right;\">\n",
       "      <th></th>\n",
       "      <th>Date</th>\n",
       "      <th>Open</th>\n",
       "      <th>High</th>\n",
       "      <th>Low</th>\n",
       "      <th>Close</th>\n",
       "      <th>Volume</th>\n",
       "      <th>day</th>\n",
       "      <th>month</th>\n",
       "      <th>year</th>\n",
       "      <th>is_quarter_end</th>\n",
       "    </tr>\n",
       "  </thead>\n",
       "  <tbody>\n",
       "    <tr>\n",
       "      <th>0</th>\n",
       "      <td>2010-06-29</td>\n",
       "      <td>19.000000</td>\n",
       "      <td>25.00</td>\n",
       "      <td>17.540001</td>\n",
       "      <td>23.889999</td>\n",
       "      <td>18766300</td>\n",
       "      <td>29</td>\n",
       "      <td>6</td>\n",
       "      <td>2010</td>\n",
       "      <td>1</td>\n",
       "    </tr>\n",
       "    <tr>\n",
       "      <th>1</th>\n",
       "      <td>2010-06-30</td>\n",
       "      <td>25.790001</td>\n",
       "      <td>30.42</td>\n",
       "      <td>23.299999</td>\n",
       "      <td>23.830000</td>\n",
       "      <td>17187100</td>\n",
       "      <td>30</td>\n",
       "      <td>6</td>\n",
       "      <td>2010</td>\n",
       "      <td>1</td>\n",
       "    </tr>\n",
       "    <tr>\n",
       "      <th>2</th>\n",
       "      <td>2010-07-01</td>\n",
       "      <td>25.000000</td>\n",
       "      <td>25.92</td>\n",
       "      <td>20.270000</td>\n",
       "      <td>21.959999</td>\n",
       "      <td>8218800</td>\n",
       "      <td>1</td>\n",
       "      <td>7</td>\n",
       "      <td>2010</td>\n",
       "      <td>0</td>\n",
       "    </tr>\n",
       "    <tr>\n",
       "      <th>3</th>\n",
       "      <td>2010-07-02</td>\n",
       "      <td>23.000000</td>\n",
       "      <td>23.10</td>\n",
       "      <td>18.709999</td>\n",
       "      <td>19.200001</td>\n",
       "      <td>5139800</td>\n",
       "      <td>2</td>\n",
       "      <td>7</td>\n",
       "      <td>2010</td>\n",
       "      <td>0</td>\n",
       "    </tr>\n",
       "    <tr>\n",
       "      <th>4</th>\n",
       "      <td>2010-07-06</td>\n",
       "      <td>20.000000</td>\n",
       "      <td>20.00</td>\n",
       "      <td>15.830000</td>\n",
       "      <td>16.110001</td>\n",
       "      <td>6866900</td>\n",
       "      <td>6</td>\n",
       "      <td>7</td>\n",
       "      <td>2010</td>\n",
       "      <td>0</td>\n",
       "    </tr>\n",
       "  </tbody>\n",
       "</table>\n",
       "</div>"
      ],
      "text/plain": [
       "        Date       Open   High        Low      Close    Volume  day  month  \\\n",
       "0 2010-06-29  19.000000  25.00  17.540001  23.889999  18766300   29      6   \n",
       "1 2010-06-30  25.790001  30.42  23.299999  23.830000  17187100   30      6   \n",
       "2 2010-07-01  25.000000  25.92  20.270000  21.959999   8218800    1      7   \n",
       "3 2010-07-02  23.000000  23.10  18.709999  19.200001   5139800    2      7   \n",
       "4 2010-07-06  20.000000  20.00  15.830000  16.110001   6866900    6      7   \n",
       "\n",
       "   year  is_quarter_end  \n",
       "0  2010               1  \n",
       "1  2010               1  \n",
       "2  2010               0  \n",
       "3  2010               0  \n",
       "4  2010               0  "
      ]
     },
     "execution_count": 23,
     "metadata": {},
     "output_type": "execute_result"
    }
   ],
   "source": [
    "df.head()"
   ]
  },
  {
   "cell_type": "markdown",
   "id": "049a694a",
   "metadata": {
    "papermill": {
     "duration": 0.02003,
     "end_time": "2024-01-05T14:48:26.281611",
     "exception": false,
     "start_time": "2024-01-05T14:48:26.261581",
     "status": "completed"
    },
    "tags": []
   },
   "source": [
    "A quarter is defined as a group of three months. Every company prepares its quarterly results and publishes them publicly so, that people can analyze the company’s performance. These quarterly results affect the stock prices heavily which is why we have added this feature because this can be a helpful feature for the learning model."
   ]
  },
  {
   "cell_type": "code",
   "execution_count": 24,
   "id": "933236dd",
   "metadata": {
    "execution": {
     "iopub.execute_input": "2024-01-05T14:48:26.325689Z",
     "iopub.status.busy": "2024-01-05T14:48:26.324705Z",
     "iopub.status.idle": "2024-01-05T14:48:27.350146Z",
     "shell.execute_reply": "2024-01-05T14:48:27.349185Z"
    },
    "papermill": {
     "duration": 1.04963,
     "end_time": "2024-01-05T14:48:27.353150",
     "exception": false,
     "start_time": "2024-01-05T14:48:26.303520",
     "status": "completed"
    },
    "tags": []
   },
   "outputs": [
    {
     "data": {
      "image/png": "[encoded data removed]",
      "text/plain": [
       "<Figure size 2000x1000 with 4 Axes>"
      ]
     },
     "metadata": {},
     "output_type": "display_data"
    }
   ],
   "source": [
    "data_grouped = df.groupby('year').mean()\n",
    "plt.subplots(figsize=(20,10))\n",
    "\n",
    "for i, col in enumerate(['Open', 'High', 'Low', 'Close']):\n",
    "    plt.subplot(2,2,i+1)\n",
    "    data_grouped[col].plot.bar()\n",
    "plt.show()\n"
   ]
  },
  {
   "cell_type": "code",
   "execution_count": 25,
   "id": "6efe604d",
   "metadata": {
    "execution": {
     "iopub.execute_input": "2024-01-05T14:48:27.396077Z",
     "iopub.status.busy": "2024-01-05T14:48:27.395666Z",
     "iopub.status.idle": "2024-01-05T14:48:27.412924Z",
     "shell.execute_reply": "2024-01-05T14:48:27.412116Z"
    },
    "papermill": {
     "duration": 0.041841,
     "end_time": "2024-01-05T14:48:27.415224",
     "exception": false,
     "start_time": "2024-01-05T14:48:27.373383",
     "status": "completed"
    },
    "tags": []
   },
   "outputs": [
    {
     "data": {
      "text/html": [
       "<div>\n",
       "<style scoped>\n",
       "    .dataframe tbody tr th:only-of-type {\n",
       "        vertical-align: middle;\n",
       "    }\n",
       "\n",
       "    .dataframe tbody tr th {\n",
       "        vertical-align: top;\n",
       "    }\n",
       "\n",
       "    .dataframe thead th {\n",
       "        text-align: right;\n",
       "    }\n",
       "</style>\n",
       "<table border=\"1\" class=\"dataframe\">\n",
       "  <thead>\n",
       "    <tr style=\"text-align: right;\">\n",
       "      <th></th>\n",
       "      <th>Date</th>\n",
       "      <th>Open</th>\n",
       "      <th>High</th>\n",
       "      <th>Low</th>\n",
       "      <th>Close</th>\n",
       "      <th>Volume</th>\n",
       "      <th>day</th>\n",
       "      <th>month</th>\n",
       "      <th>year</th>\n",
       "    </tr>\n",
       "    <tr>\n",
       "      <th>is_quarter_end</th>\n",
       "      <th></th>\n",
       "      <th></th>\n",
       "      <th></th>\n",
       "      <th></th>\n",
       "      <th></th>\n",
       "      <th></th>\n",
       "      <th></th>\n",
       "      <th></th>\n",
       "      <th></th>\n",
       "    </tr>\n",
       "  </thead>\n",
       "  <tbody>\n",
       "    <tr>\n",
       "      <th>0</th>\n",
       "      <td>2015-04-15 12:01:46.930693120</td>\n",
       "      <td>185.875081</td>\n",
       "      <td>189.254226</td>\n",
       "      <td>182.449499</td>\n",
       "      <td>186.085081</td>\n",
       "      <td>5.767062e+06</td>\n",
       "      <td>15.710396</td>\n",
       "      <td>6.173886</td>\n",
       "      <td>2014.816213</td>\n",
       "    </tr>\n",
       "    <tr>\n",
       "      <th>1</th>\n",
       "      <td>2015-04-15 09:25:12.000000000</td>\n",
       "      <td>187.071200</td>\n",
       "      <td>190.232700</td>\n",
       "      <td>183.860262</td>\n",
       "      <td>187.047163</td>\n",
       "      <td>5.180154e+06</td>\n",
       "      <td>15.825000</td>\n",
       "      <td>7.597500</td>\n",
       "      <td>2014.697500</td>\n",
       "    </tr>\n",
       "  </tbody>\n",
       "</table>\n",
       "</div>"
      ],
      "text/plain": [
       "                                        Date        Open        High  \\\n",
       "is_quarter_end                                                         \n",
       "0              2015-04-15 12:01:46.930693120  185.875081  189.254226   \n",
       "1              2015-04-15 09:25:12.000000000  187.071200  190.232700   \n",
       "\n",
       "                       Low       Close        Volume        day     month  \\\n",
       "is_quarter_end                                                              \n",
       "0               182.449499  186.085081  5.767062e+06  15.710396  6.173886   \n",
       "1               183.860262  187.047163  5.180154e+06  15.825000  7.597500   \n",
       "\n",
       "                       year  \n",
       "is_quarter_end               \n",
       "0               2014.816213  \n",
       "1               2014.697500  "
      ]
     },
     "execution_count": 25,
     "metadata": {},
     "output_type": "execute_result"
    }
   ],
   "source": [
    "df.groupby('is_quarter_end').mean()\n"
   ]
  },
  {
   "cell_type": "markdown",
   "id": "51eaa608",
   "metadata": {
    "papermill": {
     "duration": 0.020899,
     "end_time": "2024-01-05T14:48:27.457318",
     "exception": false,
     "start_time": "2024-01-05T14:48:27.436419",
     "status": "completed"
    },
    "tags": []
   },
   "source": [
    "Here are some of the important observations of the above-grouped data:\n",
    "\n",
    "1) Prices are higher in the months which are quarter end as compared to that of the non-quarter end months.\n",
    "2) The volume of trades is lower in the months which are quarter end."
   ]
  },
  {
   "cell_type": "code",
   "execution_count": 26,
   "id": "510925a6",
   "metadata": {
    "execution": {
     "iopub.execute_input": "2024-01-05T14:48:27.501919Z",
     "iopub.status.busy": "2024-01-05T14:48:27.501320Z",
     "iopub.status.idle": "2024-01-05T14:48:27.509491Z",
     "shell.execute_reply": "2024-01-05T14:48:27.508376Z"
    },
    "papermill": {
     "duration": 0.032923,
     "end_time": "2024-01-05T14:48:27.512141",
     "exception": false,
     "start_time": "2024-01-05T14:48:27.479218",
     "status": "completed"
    },
    "tags": []
   },
   "outputs": [],
   "source": [
    "df['open-close'] = df['Open'] - df['Close']\n",
    "df['low-high'] = df['Low'] - df['High']\n",
    "df['target'] = np.where(df['Close'].shift(-1) > df['Close'], 1, 0)\n"
   ]
  },
  {
   "cell_type": "markdown",
   "id": "35f52db7",
   "metadata": {
    "papermill": {
     "duration": 0.021686,
     "end_time": "2024-01-05T14:48:27.554409",
     "exception": false,
     "start_time": "2024-01-05T14:48:27.532723",
     "status": "completed"
    },
    "tags": []
   },
   "source": [
    "Above we have added some more columns which will help in the training of our model. We have added the target feature which is a signal whether to buy or not we will train our model to predict this only. But before proceeding let’s check whether the target is balanced or not using a pie chart.\n"
   ]
  },
  {
   "cell_type": "code",
   "execution_count": 27,
   "id": "43cb45a0",
   "metadata": {
    "execution": {
     "iopub.execute_input": "2024-01-05T14:48:27.598897Z",
     "iopub.status.busy": "2024-01-05T14:48:27.598502Z",
     "iopub.status.idle": "2024-01-05T14:48:27.726562Z",
     "shell.execute_reply": "2024-01-05T14:48:27.725028Z"
    },
    "papermill": {
     "duration": 0.154983,
     "end_time": "2024-01-05T14:48:27.730890",
     "exception": false,
     "start_time": "2024-01-05T14:48:27.575907",
     "status": "completed"
    },
    "tags": []
   },
   "outputs": [
    {
     "data": {
      "image/png": "[encoded data removed]",
      "text/plain": [
       "<Figure size 640x480 with 1 Axes>"
      ]
     },
     "metadata": {},
     "output_type": "display_data"
    }
   ],
   "source": [
    "plt.pie(df['target'].value_counts().values, \n",
    "        labels=[0, 1], autopct='%1.1f%%')\n",
    "plt.show()\n"
   ]
  },
  {
   "cell_type": "markdown",
   "id": "5e70c920",
   "metadata": {
    "papermill": {
     "duration": 0.034262,
     "end_time": "2024-01-05T14:48:27.809202",
     "exception": false,
     "start_time": "2024-01-05T14:48:27.774940",
     "status": "completed"
    },
    "tags": []
   },
   "source": [
    "When we add features to our dataset we have to ensure that there are no highly correlated features as they do not help in the learning process of the algorithm."
   ]
  },
  {
   "cell_type": "code",
   "execution_count": 28,
   "id": "835c00ea",
   "metadata": {
    "execution": {
     "iopub.execute_input": "2024-01-05T14:48:27.855643Z",
     "iopub.status.busy": "2024-01-05T14:48:27.854899Z",
     "iopub.status.idle": "2024-01-05T14:48:28.514965Z",
     "shell.execute_reply": "2024-01-05T14:48:28.513824Z"
    },
    "papermill": {
     "duration": 0.687372,
     "end_time": "2024-01-05T14:48:28.517740",
     "exception": false,
     "start_time": "2024-01-05T14:48:27.830368",
     "status": "completed"
    },
    "tags": []
   },
   "outputs": [
    {
     "data": {
      "image/png": "[encoded data removed]",
      "text/plain": [
       "<Figure size 1200x1000 with 1 Axes>"
      ]
     },
     "metadata": {},
     "output_type": "display_data"
    }
   ],
   "source": [
    "plt.figure(figsize=(12, 10))\n",
    "\n",
    "# As our concern is with the highly\n",
    "# correlated features only so, we will visualize\n",
    "# our heatmap as per that criteria only.\n",
    "sns.heatmap(df.corr() > 0.9, annot=True, cbar=False)\n",
    "plt.show()\n"
   ]
  },
  {
   "cell_type": "markdown",
   "id": "57f1d17d",
   "metadata": {
    "papermill": {
     "duration": 0.022443,
     "end_time": "2024-01-05T14:48:28.562483",
     "exception": false,
     "start_time": "2024-01-05T14:48:28.540040",
     "status": "completed"
    },
    "tags": []
   },
   "source": [
    "From the above heatmap, we can say that there is a high correlation between OHLC(Open,High,Low,Close) that is pretty obvious, and the added features are not highly correlated with each other or previously provided features which means that we are good to go and build our model."
   ]
  },
  {
   "cell_type": "markdown",
   "id": "293d88de",
   "metadata": {
    "papermill": {
     "duration": 0.021934,
     "end_time": "2024-01-05T14:48:28.607306",
     "exception": false,
     "start_time": "2024-01-05T14:48:28.585372",
     "status": "completed"
    },
    "tags": []
   },
   "source": [
    "# Data Splitting"
   ]
  },
  {
   "cell_type": "code",
   "execution_count": 29,
   "id": "ecde22dc",
   "metadata": {
    "execution": {
     "iopub.execute_input": "2024-01-05T14:48:28.653815Z",
     "iopub.status.busy": "2024-01-05T14:48:28.653386Z",
     "iopub.status.idle": "2024-01-05T14:48:28.668410Z",
     "shell.execute_reply": "2024-01-05T14:48:28.667234Z"
    },
    "papermill": {
     "duration": 0.040834,
     "end_time": "2024-01-05T14:48:28.670916",
     "exception": false,
     "start_time": "2024-01-05T14:48:28.630082",
     "status": "completed"
    },
    "tags": []
   },
   "outputs": [
    {
     "name": "stdout",
     "output_type": "stream",
     "text": [
      "(2174, 3) (242, 3)\n"
     ]
    }
   ],
   "source": [
    "key_features = df[['open-close', 'low-high', 'is_quarter_end']]\n",
    "target = df['target']\n",
    "\n",
    "scaler = StandardScaler()\n",
    "key_features = scaler.fit_transform(key_features)\n",
    "\n",
    "X_train, X_valid, Y_train, Y_valid = train_test_split(\n",
    "    key_features, target, test_size=0.1, random_state=2022)\n",
    "print(X_train.shape, X_valid.shape)\n"
   ]
  },
  {
   "cell_type": "markdown",
   "id": "22216822",
   "metadata": {
    "papermill": {
     "duration": 0.022125,
     "end_time": "2024-01-05T14:48:28.715046",
     "exception": false,
     "start_time": "2024-01-05T14:48:28.692921",
     "status": "completed"
    },
    "tags": []
   },
   "source": [
    "After selecting the features to train the model on we should normalize the data because normalized data leads to stable and fast training of the model. After that whole data has been split into two parts with a 90/10 ratio so, that we can evaluate the performance of our model on unseen data."
   ]
  },
  {
   "cell_type": "markdown",
   "id": "56ffa1aa",
   "metadata": {
    "papermill": {
     "duration": 0.022273,
     "end_time": "2024-01-05T14:48:28.759086",
     "exception": false,
     "start_time": "2024-01-05T14:48:28.736813",
     "status": "completed"
    },
    "tags": []
   },
   "source": [
    "# Model Development"
   ]
  },
  {
   "cell_type": "code",
   "execution_count": 30,
   "id": "eacd72a2",
   "metadata": {
    "execution": {
     "iopub.execute_input": "2024-01-05T14:48:28.805590Z",
     "iopub.status.busy": "2024-01-05T14:48:28.804436Z",
     "iopub.status.idle": "2024-01-05T14:48:30.317347Z",
     "shell.execute_reply": "2024-01-05T14:48:30.316418Z"
    },
    "papermill": {
     "duration": 1.538981,
     "end_time": "2024-01-05T14:48:30.320087",
     "exception": false,
     "start_time": "2024-01-05T14:48:28.781106",
     "status": "completed"
    },
    "tags": []
   },
   "outputs": [
    {
     "name": "stdout",
     "output_type": "stream",
     "text": [
      "LogisticRegression() : \n",
      "Training Accuracy :  0.5228802330060918\n",
      "Validation Accuracy :  0.4923371647509579\n",
      "\n",
      "SVC(kernel='poly', probability=True) : \n",
      "Training Accuracy :  0.5294364927164429\n",
      "Validation Accuracy :  0.46257525998905313\n",
      "\n",
      "XGBClassifier(base_score=None, booster=None, callbacks=None,\n",
      "              colsample_bylevel=None, colsample_bynode=None,\n",
      "              colsample_bytree=None, device=None, early_stopping_rounds=None,\n",
      "              enable_categorical=False, eval_metric=None, feature_types=None,\n",
      "              gamma=None, grow_policy=None, importance_type=None,\n",
      "              interaction_constraints=None, learning_rate=None, max_bin=None,\n",
      "              max_cat_threshold=None, max_cat_to_onehot=None,\n",
      "              max_delta_step=None, max_depth=None, max_leaves=None,\n",
      "              min_child_weight=None, missing=nan, monotone_constraints=None,\n",
      "              multi_strategy=None, n_estimators=None, n_jobs=None,\n",
      "              num_parallel_tree=None, random_state=None, ...) : \n",
      "Training Accuracy :  0.9382749759754802\n",
      "Validation Accuracy :  0.4496784345922277\n",
      "\n"
     ]
    }
   ],
   "source": [
    "models = [LogisticRegression(), SVC(\n",
    "kernel='poly', probability=True), XGBClassifier()]\n",
    "\n",
    "for i in range(3):\n",
    "    models[i].fit(X_train, Y_train)\n",
    "\n",
    "    print(f'{models[i]} : ')\n",
    "    print('Training Accuracy : ', metrics.roc_auc_score(Y_train, models[i].predict_proba(X_train)[:,1]))\n",
    "    print('Validation Accuracy : ', metrics.roc_auc_score(Y_valid, models[i].predict_proba(X_valid)[:,1]))\n",
    "    print()\n"
   ]
  },
  {
   "cell_type": "markdown",
   "id": "d8157baa",
   "metadata": {
    "papermill": {
     "duration": 0.026001,
     "end_time": "2024-01-05T14:48:30.370280",
     "exception": false,
     "start_time": "2024-01-05T14:48:30.344279",
     "status": "completed"
    },
    "tags": []
   },
   "source": [
    "Among the three models, we have trained XGBClassifier has the highest performance but it is pruned to overfitting as the difference between the training and the validation accuracy is too high. But in the case of the Logistic Regression, this is not the case."
   ]
  },
  {
   "cell_type": "code",
   "execution_count": null,
   "id": "ce8e4d09",
   "metadata": {
    "papermill": {
     "duration": 0.022224,
     "end_time": "2024-01-05T14:48:30.414950",
     "exception": false,
     "start_time": "2024-01-05T14:48:30.392726",
     "status": "completed"
    },
    "tags": []
   },
   "outputs": [],
   "source": []
  }
 ],
 "metadata": {
  "kaggle": {
   "accelerator": "none",
   "dataSources": [
    {
     "datasetId": 500872,
     "sourceId": 927894,
     "sourceType": "datasetVersion"
    }
   ],
   "dockerImageVersionId": 30626,
   "isGpuEnabled": false,
   "isInternetEnabled": true,
   "language": "python",
   "sourceType": "notebook"
  },
  "kernelspec": {
   "display_name": "Python 3",
   "language": "python",
   "name": "python3"
  },
  "language_info": {
   "codemirror_mode": {
    "name": "ipython",
    "version": 3
   },
   "file_extension": ".py",
   "mimetype": "text/x-python",
   "name": "python",
   "nbconvert_exporter": "python",
   "pygments_lexer": "ipython3",
   "version": "3.10.12"
  },
  "papermill": {
   "default_parameters": {},
   "duration": 15.075966,
   "end_time": "2024-01-05T14:48:31.158710",
   "environment_variables": {},
   "exception": null,
   "input_path": "__notebook__.ipynb",
   "output_path": "__notebook__.ipynb",
   "parameters": {},
   "start_time": "2024-01-05T14:48:16.082744",
   "version": "2.4.0"
  }
 },
 "nbformat": 4,
 "nbformat_minor": 5
}
